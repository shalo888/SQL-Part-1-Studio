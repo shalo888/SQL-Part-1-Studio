{
    "metadata": {
        "kernelspec": {
            "name": "SQL",
            "display_name": "SQL",
            "language": "sql"
        },
        "language_info": {
            "name": "sql",
            "version": ""
        },
        "extensions": {
            "azuredatastudio": {
                "version": 1,
                "views": []
            }
        }
    },
    "nbformat_minor": 2,
    "nbformat": 4,
    "cells": [
        {
            "cell_type": "markdown",
            "source": [
                "# SQL Part 1 Studio\n",
                "\n",
                "### Let's practice your SQL quering skills!  For each question, work along in the notebook adding your query and answering the questions. \n",
                "\n",
                "### **DataSet**\n",
                "\n",
                "### <span style=\"font-size: 14px; font-family: -apple-system, BlinkMacSystemFont, sans-serif;\">We will be using the Goodbooks-10k dataset from the exercises in the prep work.&nbsp; Feel free to reference your notebook.</span>\n",
                "\n",
                "- The dataset can be found here: [goodbooks-10k](https://www.kaggle.com/zygmunt/goodbooks-10k)\n",
                "- You can access the **BooksDB** in the Launchcode server.\n",
                "\n",
                "### **Business Issue**\n",
                "\n",
                "You work for a small independant book store and you want to increase sales by running various promotions.  Start by becoming more familar with the BooksDB."
            ],
            "metadata": {
                "azdata_cell_guid": "b9034d8a-b631-48bf-a895-1012a6ffa784"
            }
        },
        {
            "cell_type": "markdown",
            "source": [
                "## Part 1. BooksDB Questions\n",
                "\n",
                "<span style=\"color: rgba(0, 0, 0, 0.87); font-family: -apple-system, system-ui, &quot;Segoe UI&quot;, Helvetica, Arial, sans-serif, &quot;Apple Color Emoji&quot;, &quot;Segoe UI Emoji&quot;, &quot;Segoe UI Symbol&quot;; background-color: rgb(255, 255, 255);\">Question 1:&nbsp; Write a query of the books table, returning the TOP 100 results and&nbsp; includes, book_id, authors, title, average_rating.&nbsp; Use an alias for at least one column and in descending order of rating.&nbsp; What is the number one book ?&nbsp;</span> \n",
                "\n",
                "<span style=\"color: rgba(0, 0, 0, 0.87); font-family: -apple-system, system-ui, &quot;Segoe UI&quot;, Helvetica, Arial, sans-serif, &quot;Apple Color Emoji&quot;, &quot;Segoe UI Emoji&quot;, &quot;Segoe UI Symbol&quot;; background-color: rgb(255, 255, 255);\">Ans Number one book \"</span>The Complete Calvin and Hobbes\""
            ],
            "metadata": {
                "azdata_cell_guid": "6e55eb1c-4a14-4076-90d2-95ed17a6309f",
                "tags": [
                    "hide_input"
                ]
            },
            "attachments": {}
        },
        {
            "cell_type": "code",
            "source": [
                "-- return top 100 results\n",
                "SELECT TOP 100 book_id, authors,title,average_rating AS \"Average Rating\" \n",
                "from BooksDB.dbo.books\n",
                "ORDER BY average_rating DESC;"
            ],
            "metadata": {
                "azdata_cell_guid": "470b0ca4-9a32-4b46-a42e-bbb645101769",
                "tags": [],
                "language": "sql"
            },
            "outputs": [
                {
                    "output_type": "display_data",
                    "data": {
                        "text/html": "(100 rows affected)"
                    },
                    "metadata": {}
                },
                {
                    "output_type": "display_data",
                    "data": {
                        "text/html": "Total execution time: 00:00:00.108"
                    },
                    "metadata": {}
                },
                {
                    "output_type": "execute_result",
                    "execution_count": 4,
                    "data": {
                        "application/vnd.dataresource+json": {
                            "schema": {
                                "fields": [
                                    {
                                        "name": "book_id"
                                    },
                                    {
                                        "name": "authors"
                                    },
                                    {
                                        "name": "title"
                                    },
                                    {
                                        "name": "Average Rating"
                                    }
                                ]
                            },
                            "data": [
                                {
                                    "0": "24812",
                                    "1": "Bill Watterson",
                                    "2": "The Complete Calvin and Hobbes",
                                    "3": "4.82"
                                },
                                {
                                    "0": "17332218",
                                    "1": "Brandon Sanderson",
                                    "2": "Words of Radiance (The Stormlight Archive, #2)",
                                    "3": "4.77"
                                },
                                {
                                    "0": "8",
                                    "1": "J.K. Rowling, Mary GrandPré",
                                    "2": "Harry Potter Boxed Set, Books 1-5 (Harry Potter, #1-5)",
                                    "3": "4.77"
                                },
                                {
                                    "0": "5031805",
                                    "1": "Anonymous, Lane T. Dennis, Wayne A. Grudem",
                                    "2": "ESV Study Bible",
                                    "3": "4.76"
                                },
                                {
                                    "0": "95602",
                                    "1": "Francine Rivers",
                                    "2": "Mark of the Lion Trilogy",
                                    "3": "4.76"
                                },
                                {
                                    "0": "24814",
                                    "1": "Bill Watterson",
                                    "2": "It's a Magical World: A Calvin and Hobbes Collection",
                                    "3": "4.75"
                                },
                                {
                                    "0": "862041",
                                    "1": "J.K. Rowling",
                                    "2": "Harry Potter Boxset (Harry Potter, #1-7)",
                                    "3": "4.74"
                                },
                                {
                                    "0": "70489",
                                    "1": "Bill Watterson",
                                    "2": "There's Treasure Everywhere: A Calvin and Hobbes Collection",
                                    "3": "4.74"
                                },
                                {
                                    "0": "10",
                                    "1": "J.K. Rowling",
                                    "2": "Harry Potter Collection (Harry Potter, #1-6)",
                                    "3": "4.73"
                                },
                                {
                                    "0": "59715",
                                    "1": "Bill Watterson",
                                    "2": "The Authoritative Calvin and Hobbes: A Calvin and Hobbes Treasury",
                                    "3": "4.73"
                                },
                                {
                                    "0": "24815",
                                    "1": "Bill Watterson",
                                    "2": "The Indispensable Calvin and Hobbes",
                                    "3": "4.73"
                                },
                                {
                                    "0": "17927395",
                                    "1": "Sarah J. Maas",
                                    "2": "A Court of Mist and Fury (A Court of Thorns and Roses, #2)",
                                    "3": "4.72"
                                },
                                {
                                    "0": "70487",
                                    "1": "Bill Watterson",
                                    "2": "Attack of the Deranged Mutant Killer Monster Snow Goons",
                                    "3": "4.72"
                                },
                                {
                                    "0": "24816",
                                    "1": "Bill Watterson",
                                    "2": "Homicidal Psycho Jungle Cat: A Calvin and Hobbes Collection",
                                    "3": "4.71"
                                },
                                {
                                    "0": "121792",
                                    "1": "Bill Watterson",
                                    "2": "The Revenge of the Baby-Sat",
                                    "3": "4.71"
                                },
                                {
                                    "0": "2350129",
                                    "1": "The Church of Jesus Christ of Latter-day Saints",
                                    "2": "Preach My Gospel: A Guide To Missionary Service",
                                    "3": "4.71"
                                },
                                {
                                    "0": "24818",
                                    "1": "Bill Watterson",
                                    "2": "The Days Are Just Packed: A Calvin and Hobbes Collection",
                                    "3": "4.68"
                                },
                                {
                                    "0": "265205",
                                    "1": "Anonymous, Ronald A. Beers, Ronald A. Beers",
                                    "2": "Life Application Study Bible: NIV",
                                    "3": "4.67"
                                },
                                {
                                    "0": "9329354",
                                    "1": "Brandon Sanderson",
                                    "2": "The Way of Kings, Part 1 (The Stormlight Archive #1.1)",
                                    "3": "4.67"
                                },
                                {
                                    "0": "99298",
                                    "1": "J.K. Rowling, Mary GrandPré",
                                    "2": "The Harry Potter Collection 1-4 (Harry Potter, #1-4)",
                                    "3": "4.66"
                                },
                                {
                                    "0": "5883777",
                                    "1": "Anonymous",
                                    "2": "The Holy Bible: English Standard Version",
                                    "3": "4.66"
                                },
                                {
                                    "0": "24494",
                                    "1": "Bill Watterson",
                                    "2": "The Calvin and Hobbes Lazy Sunday Book",
                                    "3": "4.66"
                                },
                                {
                                    "0": "43070",
                                    "1": "Bill Watterson",
                                    "2": "The Essential Calvin and Hobbes: A Calvin and Hobbes Treasury",
                                    "3": "4.65"
                                },
                                {
                                    "0": "18337259",
                                    "1": "Daniel Abraham, George R.R. Martin, Tommy Patterson",
                                    "2": "A Game of Thrones: Comic Book, Issue 1",
                                    "3": "4.65"
                                },
                                {
                                    "0": "23753",
                                    "1": "Neil Gaiman, Mike Dringenberg, Chris Bachalo, Michael Zulli, Kelly Jones, Charles Vess, Colleen Doran, Malcolm Jones III, Steve Parkhouse, Daniel Vozzo, Lee Loughridge, Steve Oliff, Todd Klein, Dave McKean, Sam Kieth",
                                    "2": "The Absolute Sandman, Volume One",
                                    "3": "4.65"
                                },
                                {
                                    "0": "7235533",
                                    "1": "Brandon Sanderson",
                                    "2": "The Way of Kings (The Stormlight Archive, #1)",
                                    "3": "4.64"
                                },
                                {
                                    "0": "24813",
                                    "1": "Bill Watterson",
                                    "2": "The Calvin and Hobbes Tenth Anniversary Book",
                                    "3": "4.63"
                                },
                                {
                                    "0": "9814682",
                                    "1": "George R.R. Martin",
                                    "2": "A Song of Ice and Fire (A Song of Ice and Fire, #1-4)",
                                    "3": "4.63"
                                },
                                {
                                    "0": "12177850",
                                    "1": "George R.R. Martin",
                                    "2": "A Song of Ice and Fire (A Song of Ice and Fire, #1-5)",
                                    "3": "4.63"
                                },
                                {
                                    "0": "481749",
                                    "1": "James E. Talmage",
                                    "2": "Jesus the Christ",
                                    "3": "4.63"
                                },
                                {
                                    "0": "46292",
                                    "1": "Hafez",
                                    "2": "The Divan",
                                    "3": "4.63"
                                },
                                {
                                    "0": "6801614",
                                    "1": "Eiichirō Oda",
                                    "2": "One Piece, Volume 38: Rocketman!! (One Piece, #38)",
                                    "3": "4.63"
                                },
                                {
                                    "0": "22299763",
                                    "1": "Leigh Bardugo",
                                    "2": "Crooked Kingdom (Six of Crows, #2)",
                                    "3": "4.62"
                                },
                                {
                                    "0": "32075671",
                                    "1": "Angie Thomas",
                                    "2": "The Hate U Give",
                                    "3": "4.62"
                                },
                                {
                                    "0": "136251",
                                    "1": "J.K. Rowling, Mary GrandPré",
                                    "2": "Harry Potter and the Deathly Hallows (Harry Potter, #7)",
                                    "3": "4.61"
                                },
                                {
                                    "0": "77727",
                                    "1": "Bill Watterson, G.B. Trudeau",
                                    "2": "Calvin and Hobbes",
                                    "3": "4.61"
                                },
                                {
                                    "0": "280111",
                                    "1": "Anonymous",
                                    "2": "Holy Bible: New International Version",
                                    "3": "4.61"
                                },
                                {
                                    "0": "2223324",
                                    "1": "John   Williams",
                                    "2": "Harry Potter and the Chamber of Secrets: Sheet Music for Flute with C.D",
                                    "3": "4.61"
                                },
                                {
                                    "0": "6339989",
                                    "1": "Richelle Mead",
                                    "2": "Vampire Academy Collection (Vampire Academy, #1-3)",
                                    "3": "4.61"
                                },
                                {
                                    "0": "596259",
                                    "1": "Gordon B. Hinckley",
                                    "2": "Standing for Something: 10 Neglected Virtues That Will Heal Our Hearts and Homes",
                                    "3": "4.61"
                                },
                                {
                                    "0": "47697",
                                    "1": "Alisa Kwitney, Neil Gaiman",
                                    "2": "The Sandman: King of Dreams",
                                    "3": "4.61"
                                },
                                {
                                    "0": "18006496",
                                    "1": "Sarah J. Maas",
                                    "2": "Queen of Shadows (Throne of Glass, #4)",
                                    "3": "4.6"
                                },
                                {
                                    "0": "95617",
                                    "1": "Francine Rivers, Richard Ferrone",
                                    "2": "A Voice in the Wind (Mark of the Lion, #1)",
                                    "3": "4.6"
                                },
                                {
                                    "0": "46601",
                                    "1": "Francine Rivers",
                                    "2": "An Echo in the Darkness (Mark of the Lion, #2)",
                                    "3": "4.6"
                                },
                                {
                                    "0": "7025086",
                                    "1": "Christopher Yost, Pasqual Ferry, Orson Scott Card",
                                    "2": "Ender's Game, Volume 2: Command School",
                                    "3": "4.6"
                                },
                                {
                                    "0": "18335634",
                                    "1": "Cassandra Clare",
                                    "2": "Clockwork Princess (The Infernal Devices, #3)",
                                    "3": "4.59"
                                },
                                {
                                    "0": "30",
                                    "1": "J.R.R. Tolkien",
                                    "2": "J.R.R. Tolkien 4-Book Boxed Set: The Hobbit and The Lord of the Rings",
                                    "3": "4.59"
                                },
                                {
                                    "0": "2299110",
                                    "1": "Sherrilyn Kenyon",
                                    "2": "Acheron (Dark-Hunter #14)",
                                    "3": "4.59"
                                },
                                {
                                    "0": "119",
                                    "1": "Gary Russell",
                                    "2": "The Lord of the Rings: The Art of The Fellowship of the Ring",
                                    "3": "4.59"
                                },
                                {
                                    "0": "71252",
                                    "1": "Neil Gaiman, Marc Hempel, Richard Case, D'Israeli, Teddy Kristiansen, Glyn Dillon, Charles Vess, Dean Ormston, Kevin Nowlan, Todd Klein, Frank McConnell",
                                    "2": "The Kindly Ones (The Sandman #9)",
                                    "3": "4.59"
                                },
                                {
                                    "0": "349254",
                                    "1": "Jude Fisher",
                                    "2": "The Lord of the Rings: The Return of the King: Visual Companion",
                                    "3": "4.59"
                                },
                                {
                                    "0": "9832370",
                                    "1": "BookRags",
                                    "2": "BookRags Summary:  A Storm of Swords",
                                    "3": "4.59"
                                },
                                {
                                    "0": "11106458",
                                    "1": "Cassandra Clare",
                                    "2": "The Mortal Instruments (The Mortal Instruments #1-4)",
                                    "3": "4.59"
                                },
                                {
                                    "0": "14367051",
                                    "1": "Cassandra Clare",
                                    "2": "City of Bones / City of Ashes / City of Glass / City of Fallen Angels / City of Lost Souls (The Mortal Instruments, #1-5)",
                                    "3": "4.59"
                                },
                                {
                                    "0": "28260587",
                                    "1": "Sarah J. Maas",
                                    "2": "Empire of Storms (Throne of Glass, #5)",
                                    "3": "4.58"
                                },
                                {
                                    "0": "3165162",
                                    "1": "Rick Riordan",
                                    "2": "Percy Jackson and the Olympians (Percy Jackson and the Olympians, #1-3)",
                                    "3": "4.58"
                                },
                                {
                                    "0": "20342617",
                                    "1": "Bryan Stevenson",
                                    "2": "Just Mercy: A Story of Justice and Redemption",
                                    "3": "4.58"
                                },
                                {
                                    "0": "17961",
                                    "1": "Jorge Luis Borges, Andrew Hurley",
                                    "2": "Collected Fictions",
                                    "3": "4.58"
                                },
                                {
                                    "0": "4808763",
                                    "1": "Isaac Asimov, Bob E. Flick, Jim Gallant",
                                    "2": "The Last Question",
                                    "3": "4.58"
                                },
                                {
                                    "0": "15767586",
                                    "1": "Sherrilyn Kenyon",
                                    "2": "Styxx (Dark-Hunter, #22)",
                                    "3": "4.58"
                                },
                                {
                                    "0": "892295",
                                    "1": "Arthur Conan Doyle, William S. Baring-Gould",
                                    "2": "The Annotated Sherlock Holmes: The Four Novels and the Fifty-Six Short Stories Complete (2 Volume Set)",
                                    "3": "4.58"
                                },
                                {
                                    "0": "1215032",
                                    "1": "Patrick Rothfuss",
                                    "2": "The Wise Man's Fear (The Kingkiller Chronicle, #2)",
                                    "3": "4.57"
                                },
                                {
                                    "0": "6485421",
                                    "1": "Cassandra Clare",
                                    "2": "The Mortal Instruments Boxed Set: City of Bones; City of Ashes; City of Glass (The Mortal Instruments, #1-3)",
                                    "3": "4.57"
                                },
                                {
                                    "0": "17131869",
                                    "1": "Brian K. Vaughan, Fiona Staples",
                                    "2": "Saga, Vol. 2 (Saga, #2)",
                                    "3": "4.57"
                                },
                                {
                                    "0": "8718952",
                                    "1": "Richelle Mead",
                                    "2": "Vampire Academy Box Set (Vampire Academy, #1-4)",
                                    "3": "4.57"
                                },
                                {
                                    "0": "4634266",
                                    "1": "Masashi Kishimoto",
                                    "2": "NARUTO -ナルト- 巻ノ四十三",
                                    "3": "4.57"
                                },
                                {
                                    "0": "6443349",
                                    "1": "Rick Riordan, Tk",
                                    "2": "Percy Jackson and the Olympians Boxed Set (Percy Jackson and the Olympians, #1-5)",
                                    "3": "4.57"
                                },
                                {
                                    "0": "545425",
                                    "1": "Safiy al-Rahman al-Mubarakfuri",
                                    "2": "الرحيق المختوم",
                                    "3": "4.57"
                                },
                                {
                                    "0": "17333174",
                                    "1": "Ilona Andrews",
                                    "2": "Magic Binds (Kate Daniels, #9)",
                                    "3": "4.57"
                                },
                                {
                                    "0": "147915",
                                    "1": "George R.R. Martin",
                                    "2": "A Storm of Swords: Blood and Gold (A Song of Ice and Fire, #3: Part 2 of 2)",
                                    "3": "4.56"
                                },
                                {
                                    "0": "19358975",
                                    "1": "Brian K. Vaughan, Fiona Staples",
                                    "2": "Saga, Vol. 3 (Saga, #3)",
                                    "3": "4.56"
                                },
                                {
                                    "0": "10785687",
                                    "1": "Bob McCabe",
                                    "2": "Harry Potter Page to Screen: The Complete Filmmaking Journey",
                                    "3": "4.56"
                                },
                                {
                                    "0": "17880714",
                                    "1": "K. Bromberg",
                                    "2": "Crashed (Driven, #3)",
                                    "3": "4.56"
                                },
                                {
                                    "0": "1317181",
                                    "1": "J.K. Rowling",
                                    "2": "Harry Potter and the Order of the Phoenix (Harry Potter, #5, Part 1)",
                                    "3": "4.56"
                                },
                                {
                                    "0": "15743078",
                                    "1": "Veronica Roth",
                                    "2": "The Divergent Series 2-Book Collection (Divergent, #1-2)",
                                    "3": "4.56"
                                },
                                {
                                    "0": "29236299",
                                    "1": "Amie Kaufman, Jay Kristoff, Marie Lu",
                                    "2": "Gemina (The Illuminae Files, #2)",
                                    "3": "4.56"
                                },
                                {
                                    "0": "186074",
                                    "1": "Patrick Rothfuss",
                                    "2": "The Name of the Wind (The Kingkiller Chronicle, #1)",
                                    "3": "4.55"
                                },
                                {
                                    "0": "19486421",
                                    "1": "Jim Butcher",
                                    "2": "Skin Game (The Dresden Files, #15)",
                                    "3": "4.55"
                                },
                                {
                                    "0": "6604209",
                                    "1": "Brandon Sanderson",
                                    "2": "Mistborn Trilogy Boxed Set (Mistborn, #1-3)",
                                    "3": "4.55"
                                },
                                {
                                    "0": "25105",
                                    "1": "Neil Gaiman, Jill Thompson, Vince Locke, Peter Straub",
                                    "2": "Brief Lives (The Sandman #7)",
                                    "3": "4.55"
                                },
                                {
                                    "0": "8346300",
                                    "1": "Andrew Williamson, Andrew Williamson",
                                    "2": "Harry Potter: A Pop-Up Book: Based on the Film Phenomenon",
                                    "3": "4.55"
                                },
                                {
                                    "0": "14905",
                                    "1": "Jane Austen",
                                    "2": "The Complete Novels",
                                    "3": "4.55"
                                },
                                {
                                    "0": "13184992",
                                    "1": "Kristen Ashley",
                                    "2": "Rock Chick Regret (Rock Chick, #7)",
                                    "3": "4.55"
                                },
                                {
                                    "0": "71823",
                                    "1": "Stephen King",
                                    "2": "The Green Mile, Part 6: Coffey on the Mile",
                                    "3": "4.55"
                                },
                                {
                                    "0": "1",
                                    "1": "J.K. Rowling, Mary GrandPré",
                                    "2": "Harry Potter and the Half-Blood Prince (Harry Potter, #6)",
                                    "3": "4.54"
                                },
                                {
                                    "0": "62291",
                                    "1": "George R.R. Martin",
                                    "2": "A Storm of Swords (A Song of Ice and Fire, #3)",
                                    "3": "4.54"
                                },
                                {
                                    "0": "21853621",
                                    "1": "Kristin Hannah",
                                    "2": "The Nightingale",
                                    "3": "4.54"
                                },
                                {
                                    "0": "12127810",
                                    "1": "Rick Riordan",
                                    "2": "The House of Hades (The Heroes of Olympus, #4)",
                                    "3": "4.54"
                                },
                                {
                                    "0": "6585201",
                                    "1": "Jim Butcher",
                                    "2": "Changes (The Dresden Files, #12)",
                                    "3": "4.54"
                                },
                                {
                                    "0": "381421",
                                    "1": "Sarah  Young",
                                    "2": "Jesus Calling: Enjoying Peace in His Presence",
                                    "3": "4.54"
                                },
                                {
                                    "0": "25101",
                                    "1": "Neil Gaiman, Matt Wagner, George Pratt, Dick Giordano, Kelley Jones, P. Craig Russell, Mike Dringenberg, Malcolm Jones III, Todd Klein, Harlan Ellison",
                                    "2": "Season of Mists (The Sandman #4)",
                                    "3": "4.54"
                                },
                                {
                                    "0": "89959",
                                    "1": "Founding Fathers",
                                    "2": "The Constitution of the United States of America",
                                    "3": "4.54"
                                },
                                {
                                    "0": "23766634",
                                    "1": "Sarah J. Maas",
                                    "2": "A Court of Wings and Ruin (A Court of Thorns and Roses, #3)",
                                    "3": "4.54"
                                },
                                {
                                    "0": "20706320",
                                    "1": "Chris Colfer, Brandon Dorman",
                                    "2": "A Grimm Warning (The Land of Stories, #3)",
                                    "3": "4.54"
                                },
                                {
                                    "0": "8163161",
                                    "1": "Bisco Hatori",
                                    "2": "Ouran High School Host Club, Vol. 15 (Ouran High School Host Club, #15)",
                                    "3": "4.54"
                                },
                                {
                                    "0": "5",
                                    "1": "J.K. Rowling, Mary GrandPré, Rufus Beck",
                                    "2": "Harry Potter and the Prisoner of Azkaban (Harry Potter, #3)",
                                    "3": "4.53"
                                },
                                {
                                    "0": "6",
                                    "1": "J.K. Rowling, Mary GrandPré",
                                    "2": "Harry Potter and the Goblet of Fire (Harry Potter, #4)",
                                    "3": "4.53"
                                },
                                {
                                    "0": "20613470",
                                    "1": "Sarah J. Maas",
                                    "2": "Heir of Fire (Throne of Glass, #3)",
                                    "3": "4.53"
                                },
                                {
                                    "0": "15195",
                                    "1": "Art Spiegelman",
                                    "2": "The Complete Maus (Maus, #1-2)",
                                    "3": "4.53"
                                },
                                {
                                    "0": "25104",
                                    "1": "Neil Gaiman, Michael Zulli, Jon J. Muth, Charles Vess, Mikal Gilmore",
                                    "2": "The Wake (The Sandman #10)",
                                    "3": "4.53"
                                }
                            ]
                        },
                        "text/html": "<table><tr><th>book_id</th><th>authors</th><th>title</th><th>Average Rating</th></tr><tr><td>24812</td><td>Bill Watterson</td><td>The Complete Calvin and Hobbes</td><td>4.82</td></tr><tr><td>17332218</td><td>Brandon Sanderson</td><td>Words of Radiance (The Stormlight Archive, #2)</td><td>4.77</td></tr><tr><td>8</td><td>J.K. Rowling, Mary GrandPré</td><td>Harry Potter Boxed Set, Books 1-5 (Harry Potter, #1-5)</td><td>4.77</td></tr><tr><td>5031805</td><td>Anonymous, Lane T. Dennis, Wayne A. Grudem</td><td>ESV Study Bible</td><td>4.76</td></tr><tr><td>95602</td><td>Francine Rivers</td><td>Mark of the Lion Trilogy</td><td>4.76</td></tr><tr><td>24814</td><td>Bill Watterson</td><td>It's a Magical World: A Calvin and Hobbes Collection</td><td>4.75</td></tr><tr><td>862041</td><td>J.K. Rowling</td><td>Harry Potter Boxset (Harry Potter, #1-7)</td><td>4.74</td></tr><tr><td>70489</td><td>Bill Watterson</td><td>There's Treasure Everywhere: A Calvin and Hobbes Collection</td><td>4.74</td></tr><tr><td>10</td><td>J.K. Rowling</td><td>Harry Potter Collection (Harry Potter, #1-6)</td><td>4.73</td></tr><tr><td>59715</td><td>Bill Watterson</td><td>The Authoritative Calvin and Hobbes: A Calvin and Hobbes Treasury</td><td>4.73</td></tr><tr><td>24815</td><td>Bill Watterson</td><td>The Indispensable Calvin and Hobbes</td><td>4.73</td></tr><tr><td>17927395</td><td>Sarah J. Maas</td><td>A Court of Mist and Fury (A Court of Thorns and Roses, #2)</td><td>4.72</td></tr><tr><td>70487</td><td>Bill Watterson</td><td>Attack of the Deranged Mutant Killer Monster Snow Goons</td><td>4.72</td></tr><tr><td>24816</td><td>Bill Watterson</td><td>Homicidal Psycho Jungle Cat: A Calvin and Hobbes Collection</td><td>4.71</td></tr><tr><td>121792</td><td>Bill Watterson</td><td>The Revenge of the Baby-Sat</td><td>4.71</td></tr><tr><td>2350129</td><td>The Church of Jesus Christ of Latter-day Saints</td><td>Preach My Gospel: A Guide To Missionary Service</td><td>4.71</td></tr><tr><td>24818</td><td>Bill Watterson</td><td>The Days Are Just Packed: A Calvin and Hobbes Collection</td><td>4.68</td></tr><tr><td>265205</td><td>Anonymous, Ronald A. Beers, Ronald A. Beers</td><td>Life Application Study Bible: NIV</td><td>4.67</td></tr><tr><td>9329354</td><td>Brandon Sanderson</td><td>The Way of Kings, Part 1 (The Stormlight Archive #1.1)</td><td>4.67</td></tr><tr><td>99298</td><td>J.K. Rowling, Mary GrandPré</td><td>The Harry Potter Collection 1-4 (Harry Potter, #1-4)</td><td>4.66</td></tr><tr><td>5883777</td><td>Anonymous</td><td>The Holy Bible: English Standard Version</td><td>4.66</td></tr><tr><td>24494</td><td>Bill Watterson</td><td>The Calvin and Hobbes Lazy Sunday Book</td><td>4.66</td></tr><tr><td>43070</td><td>Bill Watterson</td><td>The Essential Calvin and Hobbes: A Calvin and Hobbes Treasury</td><td>4.65</td></tr><tr><td>18337259</td><td>Daniel Abraham, George R.R. Martin, Tommy Patterson</td><td>A Game of Thrones: Comic Book, Issue 1</td><td>4.65</td></tr><tr><td>23753</td><td>Neil Gaiman, Mike Dringenberg, Chris Bachalo, Michael Zulli, Kelly Jones, Charles Vess, Colleen Doran, Malcolm Jones III, Steve Parkhouse, Daniel Vozzo, Lee Loughridge, Steve Oliff, Todd Klein, Dave McKean, Sam Kieth</td><td>The Absolute Sandman, Volume One</td><td>4.65</td></tr><tr><td>7235533</td><td>Brandon Sanderson</td><td>The Way of Kings (The Stormlight Archive, #1)</td><td>4.64</td></tr><tr><td>24813</td><td>Bill Watterson</td><td>The Calvin and Hobbes Tenth Anniversary Book</td><td>4.63</td></tr><tr><td>9814682</td><td>George R.R. Martin</td><td>A Song of Ice and Fire (A Song of Ice and Fire, #1-4)</td><td>4.63</td></tr><tr><td>12177850</td><td>George R.R. Martin</td><td>A Song of Ice and Fire (A Song of Ice and Fire, #1-5)</td><td>4.63</td></tr><tr><td>481749</td><td>James E. Talmage</td><td>Jesus the Christ</td><td>4.63</td></tr><tr><td>46292</td><td>Hafez</td><td>The Divan</td><td>4.63</td></tr><tr><td>6801614</td><td>Eiichirō Oda</td><td>One Piece, Volume 38: Rocketman!! (One Piece, #38)</td><td>4.63</td></tr><tr><td>22299763</td><td>Leigh Bardugo</td><td>Crooked Kingdom (Six of Crows, #2)</td><td>4.62</td></tr><tr><td>32075671</td><td>Angie Thomas</td><td>The Hate U Give</td><td>4.62</td></tr><tr><td>136251</td><td>J.K. Rowling, Mary GrandPré</td><td>Harry Potter and the Deathly Hallows (Harry Potter, #7)</td><td>4.61</td></tr><tr><td>77727</td><td>Bill Watterson, G.B. Trudeau</td><td>Calvin and Hobbes</td><td>4.61</td></tr><tr><td>280111</td><td>Anonymous</td><td>Holy Bible: New International Version</td><td>4.61</td></tr><tr><td>2223324</td><td>John   Williams</td><td>Harry Potter and the Chamber of Secrets: Sheet Music for Flute with C.D</td><td>4.61</td></tr><tr><td>6339989</td><td>Richelle Mead</td><td>Vampire Academy Collection (Vampire Academy, #1-3)</td><td>4.61</td></tr><tr><td>596259</td><td>Gordon B. Hinckley</td><td>Standing for Something: 10 Neglected Virtues That Will Heal Our Hearts and Homes</td><td>4.61</td></tr><tr><td>47697</td><td>Alisa Kwitney, Neil Gaiman</td><td>The Sandman: King of Dreams</td><td>4.61</td></tr><tr><td>18006496</td><td>Sarah J. Maas</td><td>Queen of Shadows (Throne of Glass, #4)</td><td>4.6</td></tr><tr><td>95617</td><td>Francine Rivers, Richard Ferrone</td><td>A Voice in the Wind (Mark of the Lion, #1)</td><td>4.6</td></tr><tr><td>46601</td><td>Francine Rivers</td><td>An Echo in the Darkness (Mark of the Lion, #2)</td><td>4.6</td></tr><tr><td>7025086</td><td>Christopher Yost, Pasqual Ferry, Orson Scott Card</td><td>Ender's Game, Volume 2: Command School</td><td>4.6</td></tr><tr><td>18335634</td><td>Cassandra Clare</td><td>Clockwork Princess (The Infernal Devices, #3)</td><td>4.59</td></tr><tr><td>30</td><td>J.R.R. Tolkien</td><td>J.R.R. Tolkien 4-Book Boxed Set: The Hobbit and The Lord of the Rings</td><td>4.59</td></tr><tr><td>2299110</td><td>Sherrilyn Kenyon</td><td>Acheron (Dark-Hunter #14)</td><td>4.59</td></tr><tr><td>119</td><td>Gary Russell</td><td>The Lord of the Rings: The Art of The Fellowship of the Ring</td><td>4.59</td></tr><tr><td>71252</td><td>Neil Gaiman, Marc Hempel, Richard Case, D'Israeli, Teddy Kristiansen, Glyn Dillon, Charles Vess, Dean Ormston, Kevin Nowlan, Todd Klein, Frank McConnell</td><td>The Kindly Ones (The Sandman #9)</td><td>4.59</td></tr><tr><td>349254</td><td>Jude Fisher</td><td>The Lord of the Rings: The Return of the King: Visual Companion</td><td>4.59</td></tr><tr><td>9832370</td><td>BookRags</td><td>BookRags Summary:  A Storm of Swords</td><td>4.59</td></tr><tr><td>11106458</td><td>Cassandra Clare</td><td>The Mortal Instruments (The Mortal Instruments #1-4)</td><td>4.59</td></tr><tr><td>14367051</td><td>Cassandra Clare</td><td>City of Bones / City of Ashes / City of Glass / City of Fallen Angels / City of Lost Souls (The Mortal Instruments, #1-5)</td><td>4.59</td></tr><tr><td>28260587</td><td>Sarah J. Maas</td><td>Empire of Storms (Throne of Glass, #5)</td><td>4.58</td></tr><tr><td>3165162</td><td>Rick Riordan</td><td>Percy Jackson and the Olympians (Percy Jackson and the Olympians, #1-3)</td><td>4.58</td></tr><tr><td>20342617</td><td>Bryan Stevenson</td><td>Just Mercy: A Story of Justice and Redemption</td><td>4.58</td></tr><tr><td>17961</td><td>Jorge Luis Borges, Andrew Hurley</td><td>Collected Fictions</td><td>4.58</td></tr><tr><td>4808763</td><td>Isaac Asimov, Bob E. Flick, Jim Gallant</td><td>The Last Question</td><td>4.58</td></tr><tr><td>15767586</td><td>Sherrilyn Kenyon</td><td>Styxx (Dark-Hunter, #22)</td><td>4.58</td></tr><tr><td>892295</td><td>Arthur Conan Doyle, William S. Baring-Gould</td><td>The Annotated Sherlock Holmes: The Four Novels and the Fifty-Six Short Stories Complete (2 Volume Set)</td><td>4.58</td></tr><tr><td>1215032</td><td>Patrick Rothfuss</td><td>The Wise Man's Fear (The Kingkiller Chronicle, #2)</td><td>4.57</td></tr><tr><td>6485421</td><td>Cassandra Clare</td><td>The Mortal Instruments Boxed Set: City of Bones; City of Ashes; City of Glass (The Mortal Instruments, #1-3)</td><td>4.57</td></tr><tr><td>17131869</td><td>Brian K. Vaughan, Fiona Staples</td><td>Saga, Vol. 2 (Saga, #2)</td><td>4.57</td></tr><tr><td>8718952</td><td>Richelle Mead</td><td>Vampire Academy Box Set (Vampire Academy, #1-4)</td><td>4.57</td></tr><tr><td>4634266</td><td>Masashi Kishimoto</td><td>NARUTO -ナルト- 巻ノ四十三</td><td>4.57</td></tr><tr><td>6443349</td><td>Rick Riordan, Tk</td><td>Percy Jackson and the Olympians Boxed Set (Percy Jackson and the Olympians, #1-5)</td><td>4.57</td></tr><tr><td>545425</td><td>Safiy al-Rahman al-Mubarakfuri</td><td>الرحيق المختوم</td><td>4.57</td></tr><tr><td>17333174</td><td>Ilona Andrews</td><td>Magic Binds (Kate Daniels, #9)</td><td>4.57</td></tr><tr><td>147915</td><td>George R.R. Martin</td><td>A Storm of Swords: Blood and Gold (A Song of Ice and Fire, #3: Part 2 of 2)</td><td>4.56</td></tr><tr><td>19358975</td><td>Brian K. Vaughan, Fiona Staples</td><td>Saga, Vol. 3 (Saga, #3)</td><td>4.56</td></tr><tr><td>10785687</td><td>Bob McCabe</td><td>Harry Potter Page to Screen: The Complete Filmmaking Journey</td><td>4.56</td></tr><tr><td>17880714</td><td>K. Bromberg</td><td>Crashed (Driven, #3)</td><td>4.56</td></tr><tr><td>1317181</td><td>J.K. Rowling</td><td>Harry Potter and the Order of the Phoenix (Harry Potter, #5, Part 1)</td><td>4.56</td></tr><tr><td>15743078</td><td>Veronica Roth</td><td>The Divergent Series 2-Book Collection (Divergent, #1-2)</td><td>4.56</td></tr><tr><td>29236299</td><td>Amie Kaufman, Jay Kristoff, Marie Lu</td><td>Gemina (The Illuminae Files, #2)</td><td>4.56</td></tr><tr><td>186074</td><td>Patrick Rothfuss</td><td>The Name of the Wind (The Kingkiller Chronicle, #1)</td><td>4.55</td></tr><tr><td>19486421</td><td>Jim Butcher</td><td>Skin Game (The Dresden Files, #15)</td><td>4.55</td></tr><tr><td>6604209</td><td>Brandon Sanderson</td><td>Mistborn Trilogy Boxed Set (Mistborn, #1-3)</td><td>4.55</td></tr><tr><td>25105</td><td>Neil Gaiman, Jill Thompson, Vince Locke, Peter Straub</td><td>Brief Lives (The Sandman #7)</td><td>4.55</td></tr><tr><td>8346300</td><td>Andrew Williamson, Andrew Williamson</td><td>Harry Potter: A Pop-Up Book: Based on the Film Phenomenon</td><td>4.55</td></tr><tr><td>14905</td><td>Jane Austen</td><td>The Complete Novels</td><td>4.55</td></tr><tr><td>13184992</td><td>Kristen Ashley</td><td>Rock Chick Regret (Rock Chick, #7)</td><td>4.55</td></tr><tr><td>71823</td><td>Stephen King</td><td>The Green Mile, Part 6: Coffey on the Mile</td><td>4.55</td></tr><tr><td>1</td><td>J.K. Rowling, Mary GrandPré</td><td>Harry Potter and the Half-Blood Prince (Harry Potter, #6)</td><td>4.54</td></tr><tr><td>62291</td><td>George R.R. Martin</td><td>A Storm of Swords (A Song of Ice and Fire, #3)</td><td>4.54</td></tr><tr><td>21853621</td><td>Kristin Hannah</td><td>The Nightingale</td><td>4.54</td></tr><tr><td>12127810</td><td>Rick Riordan</td><td>The House of Hades (The Heroes of Olympus, #4)</td><td>4.54</td></tr><tr><td>6585201</td><td>Jim Butcher</td><td>Changes (The Dresden Files, #12)</td><td>4.54</td></tr><tr><td>381421</td><td>Sarah  Young</td><td>Jesus Calling: Enjoying Peace in His Presence</td><td>4.54</td></tr><tr><td>25101</td><td>Neil Gaiman, Matt Wagner, George Pratt, Dick Giordano, Kelley Jones, P. Craig Russell, Mike Dringenberg, Malcolm Jones III, Todd Klein, Harlan Ellison</td><td>Season of Mists (The Sandman #4)</td><td>4.54</td></tr><tr><td>89959</td><td>Founding Fathers</td><td>The Constitution of the United States of America</td><td>4.54</td></tr><tr><td>23766634</td><td>Sarah J. Maas</td><td>A Court of Wings and Ruin (A Court of Thorns and Roses, #3)</td><td>4.54</td></tr><tr><td>20706320</td><td>Chris Colfer, Brandon Dorman</td><td>A Grimm Warning (The Land of Stories, #3)</td><td>4.54</td></tr><tr><td>8163161</td><td>Bisco Hatori</td><td>Ouran High School Host Club, Vol. 15 (Ouran High School Host Club, #15)</td><td>4.54</td></tr><tr><td>5</td><td>J.K. Rowling, Mary GrandPré, Rufus Beck</td><td>Harry Potter and the Prisoner of Azkaban (Harry Potter, #3)</td><td>4.53</td></tr><tr><td>6</td><td>J.K. Rowling, Mary GrandPré</td><td>Harry Potter and the Goblet of Fire (Harry Potter, #4)</td><td>4.53</td></tr><tr><td>20613470</td><td>Sarah J. Maas</td><td>Heir of Fire (Throne of Glass, #3)</td><td>4.53</td></tr><tr><td>15195</td><td>Art Spiegelman</td><td>The Complete Maus (Maus, #1-2)</td><td>4.53</td></tr><tr><td>25104</td><td>Neil Gaiman, Michael Zulli, Jon J. Muth, Charles Vess, Mikal Gilmore</td><td>The Wake (The Sandman #10)</td><td>4.53</td></tr></table>"
                    },
                    "metadata": {}
                }
            ],
            "execution_count": 4
        },
        {
            "cell_type": "markdown",
            "source": [
                "Question 2: Write a query to find the least popular book."
            ],
            "metadata": {
                "azdata_cell_guid": "777429b8-8622-489d-9c49-e2acecd7f17e"
            },
            "attachments": {}
        },
        {
            "cell_type": "code",
            "source": [
                "-- return least popular book\n",
                "SELECT TOP 1 title,average_rating AS \"Lowest Rated Book\" \n",
                "from BooksDB.dbo.books\n",
                "ORDER BY average_rating;"
            ],
            "metadata": {
                "azdata_cell_guid": "c78a1779-db74-470f-a60a-7c72a43d774b",
                "language": "sql",
                "tags": [
                    "hide_input"
                ]
            },
            "outputs": [
                {
                    "output_type": "display_data",
                    "data": {
                        "text/html": "(1 row affected)"
                    },
                    "metadata": {}
                },
                {
                    "output_type": "display_data",
                    "data": {
                        "text/html": "Total execution time: 00:00:00.047"
                    },
                    "metadata": {}
                },
                {
                    "output_type": "execute_result",
                    "metadata": {},
                    "execution_count": 4,
                    "data": {
                        "application/vnd.dataresource+json": {
                            "schema": {
                                "fields": [
                                    {
                                        "name": "title"
                                    },
                                    {
                                        "name": "Lowest Rated Book"
                                    }
                                ]
                            },
                            "data": [
                                {
                                    "0": "One Night at the Call Center",
                                    "1": "2.47"
                                }
                            ]
                        },
                        "text/html": [
                            "<table>",
                            "<tr><th>title</th><th>Lowest Rated Book</th></tr>",
                            "<tr><td>One Night at the Call Center</td><td>2.47</td></tr>",
                            "</table>"
                        ]
                    }
                }
            ],
            "execution_count": 4
        },
        {
            "cell_type": "markdown",
            "source": [
                "Question 3: Which tag is the most popular?"
            ],
            "metadata": {
                "azdata_cell_guid": "a370909d-5d64-49e2-8fec-5220730c8ca7"
            },
            "attachments": {}
        },
        {
            "cell_type": "code",
            "source": [
                "-- return most popular tag\n",
                "SELECT TOP 1 tag_id AS \"Most Popular Tag\" \n",
                "from BooksDB.dbo.book_tags \n",
                "ORDER BY count DESC;"
            ],
            "metadata": {
                "azdata_cell_guid": "9e0451dc-c4d3-4775-9eb1-904854f459ff",
                "tags": [],
                "language": "sql"
            },
            "outputs": [
                {
                    "output_type": "display_data",
                    "data": {
                        "text/html": "(1 row affected)"
                    },
                    "metadata": {}
                },
                {
                    "output_type": "display_data",
                    "data": {
                        "text/html": "Total execution time: 00:00:00.274"
                    },
                    "metadata": {}
                },
                {
                    "output_type": "execute_result",
                    "metadata": {},
                    "execution_count": 5,
                    "data": {
                        "application/vnd.dataresource+json": {
                            "schema": {
                                "fields": [
                                    {
                                        "name": "Most Popular Tag"
                                    }
                                ]
                            },
                            "data": [
                                {
                                    "0": "30574"
                                }
                            ]
                        },
                        "text/html": [
                            "<table>",
                            "<tr><th>Most Popular Tag</th></tr>",
                            "<tr><td>30574</td></tr>",
                            "</table>"
                        ]
                    }
                }
            ],
            "execution_count": 5
        },
        {
            "cell_type": "markdown",
            "source": [
                "Question 4: What is the name of the most popular tag?"
            ],
            "metadata": {
                "azdata_cell_guid": "3cdfa7e6-c5a6-49fb-aa27-afeece881627"
            },
            "attachments": {}
        },
        {
            "cell_type": "code",
            "source": [
                "-- return name of most popular tag\n",
                "SELECT tag_name AS \"Most Popular Tag\" \n",
                "from BooksDB.dbo.tags \n",
                "WHERE tag_id = 30574;\n",
                ""
            ],
            "metadata": {
                "azdata_cell_guid": "3cd3a3ec-4ce2-49b6-b714-44179eed00e1",
                "language": "sql"
            },
            "outputs": [
                {
                    "output_type": "display_data",
                    "data": {
                        "text/html": "(1 row affected)"
                    },
                    "metadata": {}
                },
                {
                    "output_type": "display_data",
                    "data": {
                        "text/html": "Total execution time: 00:00:00.247"
                    },
                    "metadata": {}
                },
                {
                    "output_type": "execute_result",
                    "metadata": {},
                    "execution_count": 6,
                    "data": {
                        "application/vnd.dataresource+json": {
                            "schema": {
                                "fields": [
                                    {
                                        "name": "Most Popular Tag"
                                    }
                                ]
                            },
                            "data": [
                                {
                                    "0": "to-read"
                                }
                            ]
                        },
                        "text/html": [
                            "<table>",
                            "<tr><th>Most Popular Tag</th></tr>",
                            "<tr><td>to-read</td></tr>",
                            "</table>"
                        ]
                    }
                }
            ],
            "execution_count": 6
        },
        {
            "cell_type": "markdown",
            "source": [
                "Question 5: How many books where released in the first decade of 2000?"
            ],
            "metadata": {
                "azdata_cell_guid": "b3962545-c0c2-47ca-a3c4-299c2c0a4b0c"
            },
            "attachments": {}
        },
        {
            "cell_type": "code",
            "source": [
                "-- return number of books published in the first decade of 2000\n",
                "SELECT COUNT(*) AS \" The number of books published in first decade of 2000\"\n",
                "FROM BooksDB.dbo.Books\n",
                "WHERE original_publication_year <= 2010 AND original_publication_year >=2000;"
            ],
            "metadata": {
                "azdata_cell_guid": "8dcd65e9-1b3e-4cf8-b726-26729a1225f2",
                "language": "sql",
                "tags": []
            },
            "outputs": [
                {
                    "output_type": "display_data",
                    "data": {
                        "text/html": "(1 row affected)"
                    },
                    "metadata": {}
                },
                {
                    "output_type": "display_data",
                    "data": {
                        "text/html": "Total execution time: 00:00:00.043"
                    },
                    "metadata": {}
                },
                {
                    "output_type": "execute_result",
                    "metadata": {},
                    "execution_count": 8,
                    "data": {
                        "application/vnd.dataresource+json": {
                            "schema": {
                                "fields": [
                                    {
                                        "name": " The number of books published in first decade of 2000"
                                    }
                                ]
                            },
                            "data": [
                                {
                                    "0": "3594"
                                }
                            ]
                        },
                        "text/html": [
                            "<table>",
                            "<tr><th> The number of books published in first decade of 2000</th></tr>",
                            "<tr><td>3594</td></tr>",
                            "</table>"
                        ]
                    }
                }
            ],
            "execution_count": 8
        },
        {
            "cell_type": "markdown",
            "source": [
                "Question 6: How many book titles contain the word Happy?"
            ],
            "metadata": {
                "azdata_cell_guid": "5080d6de-2775-4055-97ae-f93fce97a426"
            },
            "attachments": {}
        },
        {
            "cell_type": "code",
            "source": [
                "-- return number of books that contain the word Happy\n",
                "SELECT title \n",
                "FROM BooksDB.dbo.books\n",
                "WHERE title LIKE '%Happy%';  "
            ],
            "metadata": {
                "azdata_cell_guid": "f55f18b9-91b1-4761-ad8c-4758434d7827",
                "language": "sql",
                "tags": []
            },
            "outputs": [
                {
                    "output_type": "display_data",
                    "data": {
                        "text/html": "(13 rows affected)"
                    },
                    "metadata": {}
                },
                {
                    "output_type": "display_data",
                    "data": {
                        "text/html": "Total execution time: 00:00:00.081"
                    },
                    "metadata": {}
                },
                {
                    "output_type": "execute_result",
                    "metadata": {},
                    "execution_count": 10,
                    "data": {
                        "application/vnd.dataresource+json": {
                            "schema": {
                                "fields": [
                                    {
                                        "name": "title"
                                    }
                                ]
                            },
                            "data": [
                                {
                                    "0": "Furiously Happy: A Funny Book About Horrible Things"
                                },
                                {
                                    "0": "These Happy Golden Years (Little House, #8)"
                                },
                                {
                                    "0": "Happy Ever After (Bride Quartet, #4)"
                                },
                                {
                                    "0": "This Is What Happy Looks Like (This is What Happy Looks Like, #1)"
                                },
                                {
                                    "0": "Why Be Happy When You Could Be Normal?"
                                },
                                {
                                    "0": "The Pursuit of Happyness"
                                },
                                {
                                    "0": "The Happy Prince"
                                },
                                {
                                    "0": "This is the Story of a Happy Marriage"
                                },
                                {
                                    "0": "Tales from a Not-So-Happy Heartbreaker (Dork Diaries, #6)"
                                },
                                {
                                    "0": "Happy, Happy, Happy"
                                },
                                {
                                    "0": "Happy Accidents: A Memoir"
                                },
                                {
                                    "0": "After Ever Happy (After, #4)"
                                },
                                {
                                    "0": "Healthy Sleep Habits, Happy Child"
                                }
                            ]
                        },
                        "text/html": [
                            "<table>",
                            "<tr><th>title</th></tr>",
                            "<tr><td>Furiously Happy: A Funny Book About Horrible Things</td></tr>",
                            "<tr><td>These Happy Golden Years (Little House, #8)</td></tr>",
                            "<tr><td>Happy Ever After (Bride Quartet, #4)</td></tr>",
                            "<tr><td>This Is What Happy Looks Like (This is What Happy Looks Like, #1)</td></tr>",
                            "<tr><td>Why Be Happy When You Could Be Normal?</td></tr>",
                            "<tr><td>The Pursuit of Happyness</td></tr>",
                            "<tr><td>The Happy Prince</td></tr>",
                            "<tr><td>This is the Story of a Happy Marriage</td></tr>",
                            "<tr><td>Tales from a Not-So-Happy Heartbreaker (Dork Diaries, #6)</td></tr>",
                            "<tr><td>Happy, Happy, Happy</td></tr>",
                            "<tr><td>Happy Accidents: A Memoir</td></tr>",
                            "<tr><td>After Ever Happy (After, #4)</td></tr>",
                            "<tr><td>Healthy Sleep Habits, Happy Child</td></tr>",
                            "</table>"
                        ]
                    }
                }
            ],
            "execution_count": 10
        },
        {
            "cell_type": "markdown",
            "source": [
                "Question 7: List the books from the top 3 authors from question 1.  If there is more than one author just use the first one. Sort the titles <span style=\"background-color: rgba(127, 127, 127, 0.1); font-family: -apple-system, BlinkMacSystemFont, sans-serif;\">alphabetically by author and then by average_rating, best rated to lowest. Does order matter in sorting?</span>"
            ],
            "metadata": {
                "azdata_cell_guid": "d38270ef-da5a-42b4-802a-506acb8b9e4b"
            },
            "attachments": {}
        },
        {
            "cell_type": "code",
            "source": [
                "-- return all books from the top 3 authors, sort by author and rating\n",
                "SELECT TOP 3 book_id, authors,title,average_rating AS \"Average Rating\" \n",
                "from BooksDB.dbo.books\n",
                "ORDER BY average_rating DESC, authors ASC ;"
            ],
            "metadata": {
                "azdata_cell_guid": "47466fac-5d8d-491d-bd3c-2f8496f55e6b",
                "language": "sql"
            },
            "outputs": [
                {
                    "output_type": "display_data",
                    "data": {
                        "text/html": "(3 rows affected)"
                    },
                    "metadata": {}
                },
                {
                    "output_type": "display_data",
                    "data": {
                        "text/html": "Total execution time: 00:00:00.052"
                    },
                    "metadata": {}
                },
                {
                    "output_type": "execute_result",
                    "metadata": {},
                    "execution_count": 12,
                    "data": {
                        "application/vnd.dataresource+json": {
                            "schema": {
                                "fields": [
                                    {
                                        "name": "book_id"
                                    },
                                    {
                                        "name": "authors"
                                    },
                                    {
                                        "name": "title"
                                    },
                                    {
                                        "name": "Average Rating"
                                    }
                                ]
                            },
                            "data": [
                                {
                                    "0": "24812",
                                    "1": "Bill Watterson",
                                    "2": "The Complete Calvin and Hobbes",
                                    "3": "4.82"
                                },
                                {
                                    "0": "17332218",
                                    "1": "Brandon Sanderson",
                                    "2": "Words of Radiance (The Stormlight Archive, #2)",
                                    "3": "4.77"
                                },
                                {
                                    "0": "8",
                                    "1": "J.K. Rowling, Mary GrandPré",
                                    "2": "Harry Potter Boxed Set, Books 1-5 (Harry Potter, #1-5)",
                                    "3": "4.77"
                                }
                            ]
                        },
                        "text/html": [
                            "<table>",
                            "<tr><th>book_id</th><th>authors</th><th>title</th><th>Average Rating</th></tr>",
                            "<tr><td>24812</td><td>Bill Watterson</td><td>The Complete Calvin and Hobbes</td><td>4.82</td></tr>",
                            "<tr><td>17332218</td><td>Brandon Sanderson</td><td>Words of Radiance (The Stormlight Archive, #2)</td><td>4.77</td></tr>",
                            "<tr><td>8</td><td>J.K. Rowling, Mary GrandPré</td><td>Harry Potter Boxed Set, Books 1-5 (Harry Potter, #1-5)</td><td>4.77</td></tr>",
                            "</table>"
                        ]
                    }
                }
            ],
            "execution_count": 12
        },
        {
            "cell_type": "markdown",
            "source": [
                "Question 8: Take a close look at J.K. Rowling.  Is her top rated book on this list from question 1?  Why might this be? How could we account for this?\n",
                "\n",
                "NO because row includes 2 authors"
            ],
            "metadata": {
                "azdata_cell_guid": "db907c70-0bbd-4121-ac91-ae814f703243"
            },
            "attachments": {}
        },
        {
            "cell_type": "markdown",
            "source": [
                "Try updating your above query to include all of J.K. Rowling's books.\n",
                "\n",
                "Are there any other issues?\n",
                "\n",
                "> Click here to add your answer."
            ],
            "metadata": {
                "azdata_cell_guid": "35ee4a48-8e84-4eb5-95ca-f5cdddc8d682"
            },
            "attachments": {}
        },
        {
            "cell_type": "code",
            "source": [
                "-- Try updating your above query to include all of J.K. Rowling's books\n",
                "SELECT authors,title,average_rating AS \"Average Rating\" \n",
                "from BooksDB.dbo.books\n",
                "WHERE authors LIKE '%Rowling%'\n",
                "ORDER BY average_rating DESC;"
            ],
            "metadata": {
                "azdata_cell_guid": "ce489012-fce9-435c-b570-7734223a0678",
                "tags": [],
                "language": "sql"
            },
            "outputs": [
                {
                    "output_type": "display_data",
                    "data": {
                        "text/html": "(27 rows affected)"
                    },
                    "metadata": {}
                },
                {
                    "output_type": "display_data",
                    "data": {
                        "text/html": "Total execution time: 00:00:00.079"
                    },
                    "metadata": {}
                },
                {
                    "output_type": "execute_result",
                    "metadata": {},
                    "execution_count": 13,
                    "data": {
                        "application/vnd.dataresource+json": {
                            "schema": {
                                "fields": [
                                    {
                                        "name": "authors"
                                    },
                                    {
                                        "name": "title"
                                    },
                                    {
                                        "name": "Average Rating"
                                    }
                                ]
                            },
                            "data": [
                                {
                                    "0": "J.K. Rowling, Mary GrandPré",
                                    "1": "Harry Potter Boxed Set, Books 1-5 (Harry Potter, #1-5)",
                                    "2": "4.77"
                                },
                                {
                                    "0": "J.K. Rowling",
                                    "1": "Harry Potter Boxset (Harry Potter, #1-7)",
                                    "2": "4.74"
                                },
                                {
                                    "0": "J.K. Rowling",
                                    "1": "Harry Potter Collection (Harry Potter, #1-6)",
                                    "2": "4.73"
                                },
                                {
                                    "0": "J.K. Rowling, Mary GrandPré",
                                    "1": "The Harry Potter Collection 1-4 (Harry Potter, #1-4)",
                                    "2": "4.66"
                                },
                                {
                                    "0": "J.K. Rowling, Mary GrandPré",
                                    "1": "Harry Potter and the Deathly Hallows (Harry Potter, #7)",
                                    "2": "4.61"
                                },
                                {
                                    "0": "J.K. Rowling",
                                    "1": "Harry Potter and the Order of the Phoenix (Harry Potter, #5, Part 1)",
                                    "2": "4.56"
                                },
                                {
                                    "0": "J.K. Rowling, Mary GrandPré",
                                    "1": "Harry Potter and the Half-Blood Prince (Harry Potter, #6)",
                                    "2": "4.54"
                                },
                                {
                                    "0": "J.K. Rowling, Mary GrandPré, Rufus Beck",
                                    "1": "Harry Potter and the Prisoner of Azkaban (Harry Potter, #3)",
                                    "2": "4.53"
                                },
                                {
                                    "0": "J.K. Rowling, Mary GrandPré",
                                    "1": "Harry Potter and the Goblet of Fire (Harry Potter, #4)",
                                    "2": "4.53"
                                },
                                {
                                    "0": "J.K. Rowling, Mary GrandPré",
                                    "1": "Harry Potter and the Order of the Phoenix (Harry Potter, #5)",
                                    "2": "4.46"
                                },
                                {
                                    "0": "J.K. Rowling, Mary GrandPré",
                                    "1": "Harry Potter and the Sorcerer's Stone (Harry Potter, #1)",
                                    "2": "4.44"
                                },
                                {
                                    "0": "J.K. Rowling",
                                    "1": "Fantastic Beasts and Where to Find Them: The Original Screenplay",
                                    "2": "4.41"
                                },
                                {
                                    "0": "J.K. Rowling",
                                    "1": "Harry Potter Schoolbooks Box Set: Two Classic Books from the Library of Hogwarts School of Witchcraft and Wizardry",
                                    "2": "4.4"
                                },
                                {
                                    "0": "J.K. Rowling, Mary GrandPré",
                                    "1": "Harry Potter and the Chamber of Secrets (Harry Potter, #2)",
                                    "2": "4.37"
                                },
                                {
                                    "0": "J.K. Rowling, Joel Holland",
                                    "1": "Very Good Lives: The Fringe Benefits of Failure and the Importance of Imagination",
                                    "2": "4.26"
                                },
                                {
                                    "0": "J.K. Rowling, MinaLima",
                                    "1": "Short Stories from Hogwarts of Heroism, Hardship and Dangerous Hobbies (Pottermore Presents, #1)",
                                    "2": "4.22"
                                },
                                {
                                    "0": "J.K. Rowling",
                                    "1": "Hogwarts: An Incomplete and Unreliable Guide (Pottermore Presents, #3)",
                                    "2": "4.21"
                                },
                                {
                                    "0": "Robert Galbraith, J.K. Rowling",
                                    "1": "Career of Evil (Cormoran Strike, #3)",
                                    "2": "4.21"
                                },
                                {
                                    "0": "J.K. Rowling, MinaLima",
                                    "1": "Short Stories from Hogwarts of Power, Politics and Pesky Poltergeists (Pottermore Presents, #2)",
                                    "2": "4.2"
                                },
                                {
                                    "0": "Melissa Anelli, J.K. Rowling",
                                    "1": "Harry, a History: The True Story of a Boy Wizard, His Fans, and Life Inside the Harry Potter Phenomenon",
                                    "2": "4.09"
                                },
                                {
                                    "0": "J.K. Rowling",
                                    "1": "The Tales of Beedle the Bard",
                                    "2": "4.06"
                                },
                                {
                                    "0": "Robert Galbraith, J.K. Rowling",
                                    "1": "The Silkworm (Cormoran Strike, #2)",
                                    "2": "4.03"
                                },
                                {
                                    "0": "Newt Scamander, J.K. Rowling, Albus Dumbledore",
                                    "1": "Fantastic Beasts and Where to Find Them",
                                    "2": "3.95"
                                },
                                {
                                    "0": "Kennilworthy Whisp, J.K. Rowling",
                                    "1": "Quidditch Through the Ages",
                                    "2": "3.85"
                                },
                                {
                                    "0": "Robert Galbraith, J.K. Rowling",
                                    "1": "The Cuckoo's Calling (Cormoran Strike, #1)",
                                    "2": "3.83"
                                },
                                {
                                    "0": "John Tiffany, Jack Thorne, J.K. Rowling",
                                    "1": "Harry Potter and the Cursed Child - Parts One and Two (Harry Potter, #8)",
                                    "2": "3.75"
                                },
                                {
                                    "0": "J.K. Rowling",
                                    "1": "The Casual Vacancy",
                                    "2": "3.28"
                                }
                            ]
                        },
                        "text/html": [
                            "<table>",
                            "<tr><th>authors</th><th>title</th><th>Average Rating</th></tr>",
                            "<tr><td>J.K. Rowling, Mary GrandPré</td><td>Harry Potter Boxed Set, Books 1-5 (Harry Potter, #1-5)</td><td>4.77</td></tr>",
                            "<tr><td>J.K. Rowling</td><td>Harry Potter Boxset (Harry Potter, #1-7)</td><td>4.74</td></tr>",
                            "<tr><td>J.K. Rowling</td><td>Harry Potter Collection (Harry Potter, #1-6)</td><td>4.73</td></tr>",
                            "<tr><td>J.K. Rowling, Mary GrandPré</td><td>The Harry Potter Collection 1-4 (Harry Potter, #1-4)</td><td>4.66</td></tr>",
                            "<tr><td>J.K. Rowling, Mary GrandPré</td><td>Harry Potter and the Deathly Hallows (Harry Potter, #7)</td><td>4.61</td></tr>",
                            "<tr><td>J.K. Rowling</td><td>Harry Potter and the Order of the Phoenix (Harry Potter, #5, Part 1)</td><td>4.56</td></tr>",
                            "<tr><td>J.K. Rowling, Mary GrandPré</td><td>Harry Potter and the Half-Blood Prince (Harry Potter, #6)</td><td>4.54</td></tr>",
                            "<tr><td>J.K. Rowling, Mary GrandPré, Rufus Beck</td><td>Harry Potter and the Prisoner of Azkaban (Harry Potter, #3)</td><td>4.53</td></tr>",
                            "<tr><td>J.K. Rowling, Mary GrandPré</td><td>Harry Potter and the Goblet of Fire (Harry Potter, #4)</td><td>4.53</td></tr>",
                            "<tr><td>J.K. Rowling, Mary GrandPré</td><td>Harry Potter and the Order of the Phoenix (Harry Potter, #5)</td><td>4.46</td></tr>",
                            "<tr><td>J.K. Rowling, Mary GrandPré</td><td>Harry Potter and the Sorcerer's Stone (Harry Potter, #1)</td><td>4.44</td></tr>",
                            "<tr><td>J.K. Rowling</td><td>Fantastic Beasts and Where to Find Them: The Original Screenplay</td><td>4.41</td></tr>",
                            "<tr><td>J.K. Rowling</td><td>Harry Potter Schoolbooks Box Set: Two Classic Books from the Library of Hogwarts School of Witchcraft and Wizardry</td><td>4.4</td></tr>",
                            "<tr><td>J.K. Rowling, Mary GrandPré</td><td>Harry Potter and the Chamber of Secrets (Harry Potter, #2)</td><td>4.37</td></tr>",
                            "<tr><td>J.K. Rowling, Joel Holland</td><td>Very Good Lives: The Fringe Benefits of Failure and the Importance of Imagination</td><td>4.26</td></tr>",
                            "<tr><td>J.K. Rowling, MinaLima</td><td>Short Stories from Hogwarts of Heroism, Hardship and Dangerous Hobbies (Pottermore Presents, #1)</td><td>4.22</td></tr>",
                            "<tr><td>J.K. Rowling</td><td>Hogwarts: An Incomplete and Unreliable Guide (Pottermore Presents, #3)</td><td>4.21</td></tr>",
                            "<tr><td>Robert Galbraith, J.K. Rowling</td><td>Career of Evil (Cormoran Strike, #3)</td><td>4.21</td></tr>",
                            "<tr><td>J.K. Rowling, MinaLima</td><td>Short Stories from Hogwarts of Power, Politics and Pesky Poltergeists (Pottermore Presents, #2)</td><td>4.2</td></tr>",
                            "<tr><td>Melissa Anelli, J.K. Rowling</td><td>Harry, a History: The True Story of a Boy Wizard, His Fans, and Life Inside the Harry Potter Phenomenon</td><td>4.09</td></tr>",
                            "<tr><td>J.K. Rowling</td><td>The Tales of Beedle the Bard</td><td>4.06</td></tr>",
                            "<tr><td>Robert Galbraith, J.K. Rowling</td><td>The Silkworm (Cormoran Strike, #2)</td><td>4.03</td></tr>",
                            "<tr><td>Newt Scamander, J.K. Rowling, Albus Dumbledore</td><td>Fantastic Beasts and Where to Find Them</td><td>3.95</td></tr>",
                            "<tr><td>Kennilworthy Whisp, J.K. Rowling</td><td>Quidditch Through the Ages</td><td>3.85</td></tr>",
                            "<tr><td>Robert Galbraith, J.K. Rowling</td><td>The Cuckoo's Calling (Cormoran Strike, #1)</td><td>3.83</td></tr>",
                            "<tr><td>John Tiffany, Jack Thorne, J.K. Rowling</td><td>Harry Potter and the Cursed Child - Parts One and Two (Harry Potter, #8)</td><td>3.75</td></tr>",
                            "<tr><td>J.K. Rowling</td><td>The Casual Vacancy</td><td>3.28</td></tr>",
                            "</table>"
                        ]
                    }
                }
            ],
            "execution_count": 13
        },
        {
            "cell_type": "markdown",
            "source": [
                "Question 9: Write a query that returns the number of Authors whose first name is between rock and roll."
            ],
            "metadata": {
                "azdata_cell_guid": "75bf5054-4918-4e9e-8e03-24a38ffab9cc"
            },
            "attachments": {}
        },
        {
            "cell_type": "code",
            "source": [
                "-- return number of authors whose first name is between rock and roll\n",
                "SELECT COUNT(authors) \n",
                "from BooksDB.dbo.books\n",
                "WHERE authors BETWEEN 'rock' AND 'roll' ;\n",
                ""
            ],
            "metadata": {
                "azdata_cell_guid": "491b2492-95d4-4078-b319-386b0c5592ec",
                "language": "sql"
            },
            "outputs": [
                {
                    "output_type": "display_data",
                    "data": {
                        "text/html": "(1 row affected)"
                    },
                    "metadata": {}
                },
                {
                    "output_type": "display_data",
                    "data": {
                        "text/html": "Total execution time: 00:00:00.050"
                    },
                    "metadata": {}
                },
                {
                    "output_type": "execute_result",
                    "metadata": {},
                    "execution_count": 14,
                    "data": {
                        "application/vnd.dataresource+json": {
                            "schema": {
                                "fields": [
                                    {
                                        "name": "(No column name)"
                                    }
                                ]
                            },
                            "data": [
                                {
                                    "0": "25"
                                }
                            ]
                        },
                        "text/html": [
                            "<table>",
                            "<tr><th>(No column name)</th></tr>",
                            "<tr><td>25</td></tr>",
                            "</table>"
                        ]
                    }
                }
            ],
            "execution_count": 14
        },
        {
            "cell_type": "markdown",
            "source": [
                "## Part 2. Write your own question and write a query to answer it.\n",
                "\n",
                "Your Question:  Click here to add"
            ],
            "metadata": {
                "azdata_cell_guid": "1ba1363a-4f02-4962-a95a-93b80c5926b1"
            },
            "attachments": {}
        },
        {
            "cell_type": "code",
            "source": [
                "-- Add your querry here\n",
                "-- List of Harry Potter books with most rated to least rated book \n",
                "SELECT title, average_rating as \"Most to least rated\" \n",
                "FROM BooksDB.dbo.books\n",
                "WHERE title LIKE '%Harry%'\n",
                "ORDER BY average_rating DESC;  "
            ],
            "metadata": {
                "azdata_cell_guid": "607f1a61-b306-42bf-a20c-60ec3a6ba86a",
                "language": "sql",
                "tags": []
            },
            "outputs": [
                {
                    "output_type": "display_data",
                    "data": {
                        "text/html": "(63 rows affected)"
                    },
                    "metadata": {}
                },
                {
                    "output_type": "display_data",
                    "data": {
                        "text/html": "Total execution time: 00:00:00.086"
                    },
                    "metadata": {}
                },
                {
                    "output_type": "execute_result",
                    "metadata": {},
                    "execution_count": 16,
                    "data": {
                        "application/vnd.dataresource+json": {
                            "schema": {
                                "fields": [
                                    {
                                        "name": "title"
                                    },
                                    {
                                        "name": "Most to least rated"
                                    }
                                ]
                            },
                            "data": [
                                {
                                    "0": "Harry Potter Boxed Set, Books 1-5 (Harry Potter, #1-5)",
                                    "1": "4.77"
                                },
                                {
                                    "0": "Harry Potter Boxset (Harry Potter, #1-7)",
                                    "1": "4.74"
                                },
                                {
                                    "0": "Harry Potter Collection (Harry Potter, #1-6)",
                                    "1": "4.73"
                                },
                                {
                                    "0": "The Harry Potter Collection 1-4 (Harry Potter, #1-4)",
                                    "1": "4.66"
                                },
                                {
                                    "0": "Harry Potter and the Deathly Hallows (Harry Potter, #7)",
                                    "1": "4.61"
                                },
                                {
                                    "0": "Harry Potter and the Chamber of Secrets: Sheet Music for Flute with C.D",
                                    "1": "4.61"
                                },
                                {
                                    "0": "Harry Potter Page to Screen: The Complete Filmmaking Journey",
                                    "1": "4.56"
                                },
                                {
                                    "0": "Harry Potter and the Order of the Phoenix (Harry Potter, #5, Part 1)",
                                    "1": "4.56"
                                },
                                {
                                    "0": "Harry Potter: A Pop-Up Book: Based on the Film Phenomenon",
                                    "1": "4.55"
                                },
                                {
                                    "0": "Harry Potter and the Half-Blood Prince (Harry Potter, #6)",
                                    "1": "4.54"
                                },
                                {
                                    "0": "Harry Potter and the Prisoner of Azkaban (Harry Potter, #3)",
                                    "1": "4.53"
                                },
                                {
                                    "0": "Harry Potter and the Goblet of Fire (Harry Potter, #4)",
                                    "1": "4.53"
                                },
                                {
                                    "0": "Harry Potter: Film Wizardry",
                                    "1": "4.48"
                                },
                                {
                                    "0": "Harry Potter and the Order of the Phoenix (Harry Potter, #5)",
                                    "1": "4.46"
                                },
                                {
                                    "0": "Harry Potter and Philosophy: If Aristotle Ran Hogwarts",
                                    "1": "4.45"
                                },
                                {
                                    "0": "Harry Potter and the Sorcerer's Stone (Harry Potter, #1)",
                                    "1": "4.44"
                                },
                                {
                                    "0": "Harry Potter Schoolbooks Box Set: Two Classic Books from the Library of Hogwarts School of Witchcraft and Wizardry",
                                    "1": "4.4"
                                },
                                {
                                    "0": "Harry Potter and the Chamber of Secrets (Harry Potter, #2)",
                                    "1": "4.37"
                                },
                                {
                                    "0": "The Wrong Side of Goodbye (Harry Bosch, #21; Harry Bosch Universe, #26)",
                                    "1": "4.36"
                                },
                                {
                                    "0": "Police (Harry Hole, #10)",
                                    "1": "4.22"
                                },
                                {
                                    "0": "The Crossing (Harry Bosch, #20; Mickey Haller, #7; Harry Bosch Universe, #25)",
                                    "1": "4.21"
                                },
                                {
                                    "0": "The Last Coyote (Harry Bosch, #4; Harry Bosch Universe, #4)",
                                    "1": "4.21"
                                },
                                {
                                    "0": "The Poet (Jack McEvoy, #1; Harry Bosch Universe, #5)",
                                    "1": "4.19"
                                },
                                {
                                    "0": "The Fifth Witness (Mickey Haller, #5; Harry Bosch Universe, #20)",
                                    "1": "4.17"
                                },
                                {
                                    "0": "Harry the Dirty Dog",
                                    "1": "4.17"
                                },
                                {
                                    "0": "Trunk Music (Harry Bosch, #5; Harry Bosch Universe, #6)",
                                    "1": "4.15"
                                },
                                {
                                    "0": "Lost Light (Harry Bosch, #9; Harry Bosch Universe, #11)",
                                    "1": "4.15"
                                },
                                {
                                    "0": "The Drop (Harry Bosch, #17; Harry Bosch Universe, #21)",
                                    "1": "4.14"
                                },
                                {
                                    "0": "The Lincoln Lawyer (Mickey Haller, #1; Harry Bosch Universe, #16)",
                                    "1": "4.14"
                                },
                                {
                                    "0": "The Reversal (Harry Bosch, #16; Mickey Haller, #4; Harry Bosch Universe, #19)",
                                    "1": "4.13"
                                },
                                {
                                    "0": "Angels Flight (Harry Bosch, #6; Harry Bosch Universe, #7)",
                                    "1": "4.13"
                                },
                                {
                                    "0": "A Darkness More Than Night (Harry Bosch, #7; Terry McCaleb, #2; Harry Bosch Universe, #9)",
                                    "1": "4.12"
                                },
                                {
                                    "0": "The Concrete Blonde (Harry Bosch, #3; Harry Bosch Universe, #3)",
                                    "1": "4.12"
                                },
                                {
                                    "0": "Blood Work (Harry Bosch Universe, #8; Terry McCaleb #1)",
                                    "1": "4.11"
                                },
                                {
                                    "0": "Phantom (Harry Hole, #9)",
                                    "1": "4.11"
                                },
                                {
                                    "0": "The Unofficial Harry Potter Cookbook: From Cauldron Cakes to Knickerbocker Glory--More Than 150 Magical Recipes for Wizards and Non-Wizards Alike (Unofficial Cookbook)",
                                    "1": "4.1"
                                },
                                {
                                    "0": "Harry, a History: The True Story of a Boy Wizard, His Fans, and Life Inside the Harry Potter Phenomenon",
                                    "1": "4.09"
                                },
                                {
                                    "0": "The Narrows (Harry Bosch, #10; Harry Bosch Universe, #12)",
                                    "1": "4.09"
                                },
                                {
                                    "0": "The Black Box (Harry Bosch, #18; Harry Bosch Universe, #22)",
                                    "1": "4.09"
                                },
                                {
                                    "0": "The Gods of Guilt (Mickey Haller, #6; Harry Bosch Universe, #23)",
                                    "1": "4.09"
                                },
                                {
                                    "0": "Panserhjerte (Harry Hole, #8)",
                                    "1": "4.08"
                                },
                                {
                                    "0": "The Closers (Harry Bosch, #11; Harry Bosch Universe, #13)",
                                    "1": "4.08"
                                },
                                {
                                    "0": "The Brass Verdict (Harry Bosch, #14; Mickey Haller, #2; Harry Bosch Universe, #17)",
                                    "1": "4.08"
                                },
                                {
                                    "0": "The Black Echo (Harry Bosch, #1; Harry Bosch Universe, #1)",
                                    "1": "4.08"
                                },
                                {
                                    "0": "Echo Park (Harry Bosch, #12; Harry Bosch Universe, #14)",
                                    "1": "4.07"
                                },
                                {
                                    "0": "The Redeemer (Harry Hole, #6)",
                                    "1": "4.07"
                                },
                                {
                                    "0": "The Burning Room (Harry Bosch, #19; Harry Bosch Universe, #24)",
                                    "1": "4.05"
                                },
                                {
                                    "0": "The Black Ice (Harry Bosch, #2; Harry Bosch Universe, #2)",
                                    "1": "4.05"
                                },
                                {
                                    "0": "The First Fifteen Lives of Harry August",
                                    "1": "4.04"
                                },
                                {
                                    "0": "The Snowman (Harry Hole, #7)",
                                    "1": "4.04"
                                },
                                {
                                    "0": "City of Bones (Harry Bosch, #8; Harry Bosch Universe, #10)",
                                    "1": "4.04"
                                },
                                {
                                    "0": "The Devil's Star (Harry Hole, #5)",
                                    "1": "4.03"
                                },
                                {
                                    "0": "Nemesis (Harry Hole, #4)",
                                    "1": "3.98"
                                },
                                {
                                    "0": "Nine Dragons (Harry Bosch, #15; Mickey Haller, #3; Harry Bosch Universe, #18)",
                                    "1": "3.97"
                                },
                                {
                                    "0": "The Magical Worlds of Harry Potter: A Treasury of Myths, Legends, and Fascinating Facts",
                                    "1": "3.96"
                                },
                                {
                                    "0": "La Vérité sur l'affaire Harry Quebert",
                                    "1": "3.94"
                                },
                                {
                                    "0": "The Redbreast (Harry Hole, #3)",
                                    "1": "3.94"
                                },
                                {
                                    "0": "The Overlook (Harry Bosch, #13; Harry Bosch Universe, #15)",
                                    "1": "3.91"
                                },
                                {
                                    "0": "Harry Potter and the Cursed Child - Parts One and Two (Harry Potter, #8)",
                                    "1": "3.75"
                                },
                                {
                                    "0": "Cockroaches (Harry Hole, #2)",
                                    "1": "3.71"
                                },
                                {
                                    "0": "Flaggermusmannen (Harry Hole, #1)",
                                    "1": "3.56"
                                },
                                {
                                    "0": "Man and Boy (Harry Silver, #1)",
                                    "1": "3.55"
                                },
                                {
                                    "0": "Chasing Harry Winston",
                                    "1": "3.32"
                                }
                            ]
                        },
                        "text/html": [
                            "<table>",
                            "<tr><th>title</th><th>Most to least rated</th></tr>",
                            "<tr><td>Harry Potter Boxed Set, Books 1-5 (Harry Potter, #1-5)</td><td>4.77</td></tr>",
                            "<tr><td>Harry Potter Boxset (Harry Potter, #1-7)</td><td>4.74</td></tr>",
                            "<tr><td>Harry Potter Collection (Harry Potter, #1-6)</td><td>4.73</td></tr>",
                            "<tr><td>The Harry Potter Collection 1-4 (Harry Potter, #1-4)</td><td>4.66</td></tr>",
                            "<tr><td>Harry Potter and the Deathly Hallows (Harry Potter, #7)</td><td>4.61</td></tr>",
                            "<tr><td>Harry Potter and the Chamber of Secrets: Sheet Music for Flute with C.D</td><td>4.61</td></tr>",
                            "<tr><td>Harry Potter Page to Screen: The Complete Filmmaking Journey</td><td>4.56</td></tr>",
                            "<tr><td>Harry Potter and the Order of the Phoenix (Harry Potter, #5, Part 1)</td><td>4.56</td></tr>",
                            "<tr><td>Harry Potter: A Pop-Up Book: Based on the Film Phenomenon</td><td>4.55</td></tr>",
                            "<tr><td>Harry Potter and the Half-Blood Prince (Harry Potter, #6)</td><td>4.54</td></tr>",
                            "<tr><td>Harry Potter and the Prisoner of Azkaban (Harry Potter, #3)</td><td>4.53</td></tr>",
                            "<tr><td>Harry Potter and the Goblet of Fire (Harry Potter, #4)</td><td>4.53</td></tr>",
                            "<tr><td>Harry Potter: Film Wizardry</td><td>4.48</td></tr>",
                            "<tr><td>Harry Potter and the Order of the Phoenix (Harry Potter, #5)</td><td>4.46</td></tr>",
                            "<tr><td>Harry Potter and Philosophy: If Aristotle Ran Hogwarts</td><td>4.45</td></tr>",
                            "<tr><td>Harry Potter and the Sorcerer's Stone (Harry Potter, #1)</td><td>4.44</td></tr>",
                            "<tr><td>Harry Potter Schoolbooks Box Set: Two Classic Books from the Library of Hogwarts School of Witchcraft and Wizardry</td><td>4.4</td></tr>",
                            "<tr><td>Harry Potter and the Chamber of Secrets (Harry Potter, #2)</td><td>4.37</td></tr>",
                            "<tr><td>The Wrong Side of Goodbye (Harry Bosch, #21; Harry Bosch Universe, #26)</td><td>4.36</td></tr>",
                            "<tr><td>Police (Harry Hole, #10)</td><td>4.22</td></tr>",
                            "<tr><td>The Crossing (Harry Bosch, #20; Mickey Haller, #7; Harry Bosch Universe, #25)</td><td>4.21</td></tr>",
                            "<tr><td>The Last Coyote (Harry Bosch, #4; Harry Bosch Universe, #4)</td><td>4.21</td></tr>",
                            "<tr><td>The Poet (Jack McEvoy, #1; Harry Bosch Universe, #5)</td><td>4.19</td></tr>",
                            "<tr><td>The Fifth Witness (Mickey Haller, #5; Harry Bosch Universe, #20)</td><td>4.17</td></tr>",
                            "<tr><td>Harry the Dirty Dog</td><td>4.17</td></tr>",
                            "<tr><td>Trunk Music (Harry Bosch, #5; Harry Bosch Universe, #6)</td><td>4.15</td></tr>",
                            "<tr><td>Lost Light (Harry Bosch, #9; Harry Bosch Universe, #11)</td><td>4.15</td></tr>",
                            "<tr><td>The Drop (Harry Bosch, #17; Harry Bosch Universe, #21)</td><td>4.14</td></tr>",
                            "<tr><td>The Lincoln Lawyer (Mickey Haller, #1; Harry Bosch Universe, #16)</td><td>4.14</td></tr>",
                            "<tr><td>The Reversal (Harry Bosch, #16; Mickey Haller, #4; Harry Bosch Universe, #19)</td><td>4.13</td></tr>",
                            "<tr><td>Angels Flight (Harry Bosch, #6; Harry Bosch Universe, #7)</td><td>4.13</td></tr>",
                            "<tr><td>A Darkness More Than Night (Harry Bosch, #7; Terry McCaleb, #2; Harry Bosch Universe, #9)</td><td>4.12</td></tr>",
                            "<tr><td>The Concrete Blonde (Harry Bosch, #3; Harry Bosch Universe, #3)</td><td>4.12</td></tr>",
                            "<tr><td>Blood Work (Harry Bosch Universe, #8; Terry McCaleb #1)</td><td>4.11</td></tr>",
                            "<tr><td>Phantom (Harry Hole, #9)</td><td>4.11</td></tr>",
                            "<tr><td>The Unofficial Harry Potter Cookbook: From Cauldron Cakes to Knickerbocker Glory--More Than 150 Magical Recipes for Wizards and Non-Wizards Alike (Unofficial Cookbook)</td><td>4.1</td></tr>",
                            "<tr><td>Harry, a History: The True Story of a Boy Wizard, His Fans, and Life Inside the Harry Potter Phenomenon</td><td>4.09</td></tr>",
                            "<tr><td>The Narrows (Harry Bosch, #10; Harry Bosch Universe, #12)</td><td>4.09</td></tr>",
                            "<tr><td>The Black Box (Harry Bosch, #18; Harry Bosch Universe, #22)</td><td>4.09</td></tr>",
                            "<tr><td>The Gods of Guilt (Mickey Haller, #6; Harry Bosch Universe, #23)</td><td>4.09</td></tr>",
                            "<tr><td>Panserhjerte (Harry Hole, #8)</td><td>4.08</td></tr>",
                            "<tr><td>The Closers (Harry Bosch, #11; Harry Bosch Universe, #13)</td><td>4.08</td></tr>",
                            "<tr><td>The Brass Verdict (Harry Bosch, #14; Mickey Haller, #2; Harry Bosch Universe, #17)</td><td>4.08</td></tr>",
                            "<tr><td>The Black Echo (Harry Bosch, #1; Harry Bosch Universe, #1)</td><td>4.08</td></tr>",
                            "<tr><td>Echo Park (Harry Bosch, #12; Harry Bosch Universe, #14)</td><td>4.07</td></tr>",
                            "<tr><td>The Redeemer (Harry Hole, #6)</td><td>4.07</td></tr>",
                            "<tr><td>The Burning Room (Harry Bosch, #19; Harry Bosch Universe, #24)</td><td>4.05</td></tr>",
                            "<tr><td>The Black Ice (Harry Bosch, #2; Harry Bosch Universe, #2)</td><td>4.05</td></tr>",
                            "<tr><td>The First Fifteen Lives of Harry August</td><td>4.04</td></tr>",
                            "<tr><td>The Snowman (Harry Hole, #7)</td><td>4.04</td></tr>",
                            "<tr><td>City of Bones (Harry Bosch, #8; Harry Bosch Universe, #10)</td><td>4.04</td></tr>",
                            "<tr><td>The Devil's Star (Harry Hole, #5)</td><td>4.03</td></tr>",
                            "<tr><td>Nemesis (Harry Hole, #4)</td><td>3.98</td></tr>",
                            "<tr><td>Nine Dragons (Harry Bosch, #15; Mickey Haller, #3; Harry Bosch Universe, #18)</td><td>3.97</td></tr>",
                            "<tr><td>The Magical Worlds of Harry Potter: A Treasury of Myths, Legends, and Fascinating Facts</td><td>3.96</td></tr>",
                            "<tr><td>La Vérité sur l'affaire Harry Quebert</td><td>3.94</td></tr>",
                            "<tr><td>The Redbreast (Harry Hole, #3)</td><td>3.94</td></tr>",
                            "<tr><td>The Overlook (Harry Bosch, #13; Harry Bosch Universe, #15)</td><td>3.91</td></tr>",
                            "<tr><td>Harry Potter and the Cursed Child - Parts One and Two (Harry Potter, #8)</td><td>3.75</td></tr>",
                            "<tr><td>Cockroaches (Harry Hole, #2)</td><td>3.71</td></tr>",
                            "<tr><td>Flaggermusmannen (Harry Hole, #1)</td><td>3.56</td></tr>",
                            "<tr><td>Man and Boy (Harry Silver, #1)</td><td>3.55</td></tr>",
                            "<tr><td>Chasing Harry Winston</td><td>3.32</td></tr>",
                            "</table>"
                        ]
                    }
                }
            ],
            "execution_count": 16
        },
        {
            "cell_type": "markdown",
            "source": [
                "Your Question: Click here to add"
            ],
            "metadata": {
                "azdata_cell_guid": "9386ad04-a016-44d4-8c5c-d25a102d47b4"
            }
        },
        {
            "cell_type": "code",
            "source": [
                "-- Add your querry here\n",
                "-- most recent published book\n",
                "SELECT TOP 1 original_publication_year\"Publication Year\", title AS \"Most Recent Published Book\"\n",
                "FROM BooksDB.dbo.Books\n",
                "ORDER BY original_publication_year DESC;"
            ],
            "metadata": {
                "azdata_cell_guid": "15f249cf-aad7-468d-92e1-429b2a09f285",
                "language": "sql"
            },
            "outputs": [
                {
                    "output_type": "display_data",
                    "data": {
                        "text/html": "(1 row affected)"
                    },
                    "metadata": {}
                },
                {
                    "output_type": "display_data",
                    "data": {
                        "text/html": "Total execution time: 00:00:00.054"
                    },
                    "metadata": {}
                },
                {
                    "output_type": "execute_result",
                    "metadata": {},
                    "execution_count": 21,
                    "data": {
                        "application/vnd.dataresource+json": {
                            "schema": {
                                "fields": [
                                    {
                                        "name": "Publication Year"
                                    },
                                    {
                                        "name": "Most Recent Published Book"
                                    }
                                ]
                            },
                            "data": [
                                {
                                    "0": "2017",
                                    "1": "Norse Mythology"
                                }
                            ]
                        },
                        "text/html": [
                            "<table>",
                            "<tr><th>Publication Year</th><th>Most Recent Published Book</th></tr>",
                            "<tr><td>2017</td><td>Norse Mythology</td></tr>",
                            "</table>"
                        ]
                    }
                }
            ],
            "execution_count": 21
        },
        {
            "cell_type": "markdown",
            "source": [
                "**Some Question Examples:**\n",
                "\n",
                "Write a query that returns the longest title?\n",
                "\n",
                "Which Author has written the most books?  \n",
                "\n",
                "Top  ten books written the year I was born?"
            ],
            "metadata": {
                "azdata_cell_guid": "7160362b-7127-4123-bd1d-95a94ae38a07"
            }
        }
    ]
}